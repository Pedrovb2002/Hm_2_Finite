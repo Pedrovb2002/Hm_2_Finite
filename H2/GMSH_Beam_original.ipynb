{
 "cells": [
  {
   "cell_type": "code",
   "execution_count": 83,
   "id": "ceb48fc6",
   "metadata": {},
   "outputs": [],
   "source": [
    "# Import dependencies\n",
    "import numpy as np\n",
    "import matplotlib.pyplot as plt\n",
    "import gmsh\n",
    "import os\n",
    "import meshio\n",
    "\n",
    "from baseUnits import mm, cm, m, kgf, N, tf, kN, MPa\n",
    "from fem import Node, Material, Membrane, CST\n"
   ]
  },
  {
   "cell_type": "code",
   "execution_count": 84,
   "id": "bbf61d99",
   "metadata": {},
   "outputs": [],
   "source": [
    "# General model parameters\n",
    "L = 3*m  # Length of the beam\n",
    "H = 30*cm  # Height of the beam\n",
    "B = 30*cm  # Width of the beam\n",
    "\n",
    "fc=28*MPa  # Concrete compressive strength\n",
    "E=4700*(fc)**0.5  # Concrete modulus of elasticity\n",
    "nu=0.2  # Concrete Poisson's ratio\n",
    "\n",
    "lc=100 # Mesh size\n",
    "\n",
    "output_path=r'C:\\Users\\nmora\\OneDrive\\nmb\\UANDES\\FEM\\Ayudantia\\mesh'  # Path to save the mesh file\n",
    "mesh_name='beam'  # Name of the mesh file\n",
    "output_file=os.path.join(output_path, mesh_name + '.msh')  # Full path to the mesh file\n",
    "if not os.path.exists(output_path):\n",
    "    os.makedirs(output_path)  # Create the output directory if it doesn't exist"
   ]
  },
  {
   "cell_type": "code",
   "execution_count": 85,
   "id": "f190cd84",
   "metadata": {},
   "outputs": [],
   "source": [
    "# Create a new GMSH model\n",
    "gmsh.initialize()\n",
    "gmsh.model.add(\"Beam\")\n",
    "\n",
    "# Create the geometry of the beam\n",
    "# Create the corner points of the beam\n",
    "p1 = gmsh.model.geo.addPoint(0, 0, 0, lc)\n",
    "p2 = gmsh.model.geo.addPoint(L, 0, 0, lc)\n",
    "p3 = gmsh.model.geo.addPoint(L, H, 0, lc)\n",
    "p4 = gmsh.model.geo.addPoint(0, H, 0, lc)\n",
    "\n",
    "# Define the lines\n",
    "l1 = gmsh.model.geo.addLine(p1, p2)\n",
    "l2 = gmsh.model.geo.addLine(p2, p3)\n",
    "l3 = gmsh.model.geo.addLine(p3, p4)\n",
    "l4 = gmsh.model.geo.addLine(p4, p1)\n",
    "\n",
    "# Define the surface\n",
    "c1 = gmsh.model.geo.addCurveLoop([l1, l2, l3, l4]) # Create first a curve\n",
    "s1 = gmsh.model.geo.addPlaneSurface([c1]) # Create a surface from the curve\n",
    "\n",
    "# Synchronize the model to create the geometry\n",
    "gmsh.model.geo.synchronize()\n",
    "\n",
    "# Lauch the GUI to visualize the geometry\n",
    "gmsh.fltk.run()\n"
   ]
  },
  {
   "cell_type": "code",
   "execution_count": 86,
   "id": "5489cbbd",
   "metadata": {},
   "outputs": [],
   "source": [
    "# Create the physical groups for the geometry\n",
    "# gmsh.model.addPhysicalGroup(dim, tags, physicalTag)\n",
    "\n",
    "gmsh.model.addPhysicalGroup(2, [s1], 201)  # Surface of the beam\n",
    "gmsh.model.setPhysicalName(2, 201, \"Beam\")  # Set the name of the physical group\n",
    "\n",
    "gmsh.model.addPhysicalGroup(1, [l4], 101)  # Left edge of the beam\n",
    "gmsh.model.setPhysicalName(1, 101, \"Support\")  # Set the name of the physical group\n",
    "\n",
    "gmsh.model.addPhysicalGroup(0, [p3], 1)  # Right edge of the beam\n",
    "gmsh.model.setPhysicalName(0, 1, \"Load\")  # Set the name of the physical group\n",
    "\n",
    "# Synchronize the model to create the geometry\n",
    "gmsh.model.geo.synchronize()\n",
    "\n",
    "# Lauch the GUI to visualize the geometry\n",
    "gmsh.fltk.run()\n",
    "\n"
   ]
  },
  {
   "cell_type": "code",
   "execution_count": 87,
   "id": "4207aeb9",
   "metadata": {},
   "outputs": [],
   "source": [
    "# Create mesh fine control and refinement\n",
    "# Create transfinite mesh for the surface\n",
    "\n",
    "gmsh.option.setNumber(\"Mesh.CharacteristicLengthMin\", lc)\n",
    "gmsh.option.setNumber(\"Mesh.CharacteristicLengthMax\", lc)\n",
    "\n",
    "\n",
    "gmsh.model.geo.synchronize()\n",
    "gmsh.model.mesh.generate(2)  # 2D mesh\n",
    "gmsh.fltk.run()\n"
   ]
  },
  {
   "cell_type": "code",
   "execution_count": 88,
   "id": "f18daeb9",
   "metadata": {},
   "outputs": [],
   "source": [
    "# Save the mesh to a file\n",
    "gmsh.write(output_file)  # Save the mesh to a file"
   ]
  },
  {
   "cell_type": "code",
   "execution_count": 89,
   "id": "2742b906",
   "metadata": {},
   "outputs": [],
   "source": [
    "#gmsh.finalize()\n"
   ]
  },
  {
   "cell_type": "markdown",
   "id": "51614de2",
   "metadata": {},
   "source": [
    "# FEM Model"
   ]
  },
  {
   "cell_type": "code",
   "execution_count": 90,
   "id": "31120426",
   "metadata": {},
   "outputs": [],
   "source": [
    "concrete=Material(\n",
    "    name='fc28',\n",
    "    E=E,\n",
    "    nu=0.2,\n",
    "    rho=2.4*tf/m**3,\n",
    ")\n",
    "\n",
    "s1=Membrane(\n",
    "    name='s1',\n",
    "    material=concrete,\n",
    "    thickness=B,\n",
    ")"
   ]
  },
  {
   "cell_type": "code",
   "execution_count": 91,
   "id": "3abbd8f9",
   "metadata": {},
   "outputs": [
    {
     "name": "stdout",
     "output_type": "stream",
     "text": [
      "\n",
      "<meshio mesh object>\n",
      "  Number of points: 20\n",
      "  Number of cells:\n",
      "    vertex: 1\n",
      "    line: 1\n",
      "    triangle: 24\n",
      "  Cell sets: Load, Support, Beam, gmsh:bounding_entities\n",
      "  Point data: gmsh:dim_tags\n",
      "  Cell data: gmsh:physical, gmsh:geometrical\n",
      "  Field data: Load, Support, Beam\n"
     ]
    }
   ],
   "source": [
    "# Work with the mesh'\n",
    "mesh=meshio.read(output_file)  # Read the mesh file\n",
    "print(mesh)  # Print the mesh information"
   ]
  },
  {
   "cell_type": "code",
   "execution_count": 92,
   "id": "acd10137",
   "metadata": {},
   "outputs": [],
   "source": [
    "import numpy as np\n",
    "from fem import Node  # Asegúrate de importar tu clase\n",
    "\n",
    "nodes = np.array([\n",
    "    Node(\n",
    "        name=i + 1,  # ← empieza en 1 si usas tags Gmsh\n",
    "        coordenadas=point[0:2]\n",
    "    )\n",
    "    for i, point in enumerate(mesh.points)\n",
    "], dtype=object)  # ← necesario para arrays de objetos personalizados\n"
   ]
  },
  {
   "cell_type": "code",
   "execution_count": 93,
   "id": "07597522",
   "metadata": {},
   "outputs": [
    {
     "data": {
      "text/plain": [
       "[]"
      ]
     },
     "execution_count": 93,
     "metadata": {},
     "output_type": "execute_result"
    },
    {
     "data": {
      "image/png": "[encoded data removed]",
      "text/plain": [
       "<Figure size 1000x1000 with 1 Axes>"
      ]
     },
     "metadata": {},
     "output_type": "display_data"
    }
   ],
   "source": [
    "fig, ax = plt.subplots(figsize=(10, 10))  # Create a figure and axis for plotting\n",
    "\n",
    "for node in nodes:\n",
    "    node.plotGeometry(ax=ax,\n",
    "                      text=True)  # Plot each node\n",
    "\n",
    "ax.set_aspect('equal')  # Mantiene proporciones 1:1\n",
    "ax.plot()  # Show the plot"
   ]
  },
  {
   "cell_type": "code",
   "execution_count": 94,
   "id": "e493f848",
   "metadata": {},
   "outputs": [],
   "source": [
    "\n",
    "elements = []\n",
    "\n",
    "triangles = mesh.cells_dict['triangle']  # nodos por cada triángulo\n",
    "\n",
    "for i, node_list in enumerate(triangles):\n",
    "    nodes_objects=nodes[node_list]\n",
    "    elem = CST(\n",
    "        element_tag= i,\n",
    "        node_list= nodes_objects,\n",
    "        section= s1\n",
    "    )\n",
    "    elements.append(elem)\n",
    "    \n",
    "# Convertir la lista a un array de objetos\n",
    "elements = np.array(elements, dtype=object)\n",
    "\n"
   ]
  },
  {
   "cell_type": "code",
   "execution_count": 95,
   "id": "59a2fe5a",
   "metadata": {},
   "outputs": [
    {
     "data": {
      "text/plain": [
       "[]"
      ]
     },
     "execution_count": 95,
     "metadata": {},
     "output_type": "execute_result"
    },
    {
     "data": {
      "image/png": "[encoded data removed]",
      "text/plain": [
       "<Figure size 1000x1000 with 1 Axes>"
      ]
     },
     "metadata": {},
     "output_type": "display_data"
    }
   ],
   "source": [
    "fig, ax = plt.subplots(figsize=(10, 10))  # Create a figure and axis for plotting\n",
    "\n",
    "for element in elements:\n",
    "    element.plotGeometry(ax=ax) \n",
    "\n",
    "ax.set_aspect('equal')  # Mantiene proporciones 1:1\n",
    "ax.plot()  # Show the plot"
   ]
  },
  {
   "cell_type": "code",
   "execution_count": 96,
   "id": "4fae0167",
   "metadata": {},
   "outputs": [],
   "source": [
    "# We create some wrapper functions to access and replace matrix coefficients using row and column indices\n",
    "\n",
    "def matrix_extract(matrix: np.ndarray, row_indices: np.ndarray, col_indices: np.ndarray) -> np.ndarray:\n",
    "    \"\"\"\n",
    "    Extracts submatrix values from a given matrix using specified row and column indices.\n",
    "\n",
    "    Args:\n",
    "        matrix (np.ndarray): The original matrix.\n",
    "        row_indices (np.ndarray): Indices of the rows to extract.\n",
    "        col_indices (np.ndarray): Indices of the columns to extract.\n",
    "\n",
    "    Returns:\n",
    "        np.ndarray: The extracted submatrix.\n",
    "    \"\"\"\n",
    "    return matrix[np.ix_(row_indices, col_indices)]\n",
    "\n",
    "def matrix_replace(matrix: np.ndarray, matrix_add: np.ndarray, row_indices: np.ndarray, col_indices: np.ndarray) -> np.ndarray:\n",
    "    \"\"\"\n",
    "    Adds a given submatrix to specific positions in a target matrix.\n",
    "\n",
    "    Args:\n",
    "        matrix (np.ndarray): The target matrix.\n",
    "        matrix_add (np.ndarray): The submatrix to be added.\n",
    "        row_indices (np.ndarray): Indices of the rows where addition should occur.\n",
    "        col_indices (np.ndarray): Indices of the columns where addition should occur.\n",
    "\n",
    "    Returns:\n",
    "        np.ndarray: A new matrix with the submatrix added to the specified indices.\n",
    "    \"\"\"\n",
    "    # Create a copy to avoid modifying the original matrix\n",
    "    updated_matrix = matrix.copy()\n",
    "    \n",
    "    # Use np.ix_ for better readability and performance\n",
    "    updated_matrix[np.ix_(row_indices, col_indices)] += matrix_add\n",
    "    \n",
    "    return updated_matrix\n",
    "\n",
    "\n",
    "def get_nodes_in_group(mesh, group_name: str, nodes_array: np.ndarray):\n",
    "    \"\"\"\n",
    "    Devuelve los objetos Node correspondientes al grupo físico indicado.\n",
    "\n",
    "    Args:\n",
    "        mesh (meshio.Mesh): Malla cargada con meshio.read(...)\n",
    "        group_name (str): Nombre del grupo físico (ej. 'Support', 'Load', 'Beam')\n",
    "        nodes_array (np.ndarray): Arreglo de objetos Node indexado como Gmsh (i+1)\n",
    "\n",
    "    Returns:\n",
    "        np.ndarray: arreglo de objetos Node pertenecientes al grupo\n",
    "    \"\"\"\n",
    "    if group_name not in mesh.field_data:\n",
    "        raise ValueError(f\"Grupo físico '{group_name}' no encontrado en la malla\")\n",
    "\n",
    "    group_id, dim = mesh.field_data[group_name]\n",
    "\n",
    "    # Mapear la dimensión Gmsh a tipo de celda\n",
    "    dim_to_cell = {0: 'vertex', 1: 'line', 2: 'triangle'}\n",
    "    if dim not in dim_to_cell:\n",
    "        raise NotImplementedError(f\"No se soporta la dimensión {dim} por ahora\")\n",
    "\n",
    "    cell_type = dim_to_cell[dim]\n",
    "\n",
    "    if cell_type not in mesh.cells_dict:\n",
    "        raise ValueError(f\"No se encontró '{cell_type}' en mesh.cells_dict\")\n",
    "\n",
    "    elements = mesh.cells_dict[cell_type]\n",
    "    phys_ids = mesh.cell_data_dict[\"gmsh:physical\"][cell_type]\n",
    "\n",
    "    # Extraer nodos únicos del grupo físico\n",
    "    node_ids = [n for e, g in zip(elements, phys_ids) if g == group_id for n in e]\n",
    "    node_ids = np.unique(node_ids)  # Gmsh → Python indexing\n",
    "\n",
    "    return nodes_array[node_ids]"
   ]
  },
  {
   "cell_type": "code",
   "execution_count": 97,
   "id": "72f791c0",
   "metadata": {},
   "outputs": [
    {
     "data": {
      "text/plain": [
       "{'Load': array([1, 0]),\n",
       " 'Support': array([101,   1]),\n",
       " 'Beam': array([201,   2])}"
      ]
     },
     "execution_count": 97,
     "metadata": {},
     "output_type": "execute_result"
    }
   ],
   "source": [
    "mesh.field_data"
   ]
  },
  {
   "cell_type": "code",
   "execution_count": 98,
   "id": "ef704651",
   "metadata": {},
   "outputs": [
    {
     "data": {
      "text/plain": [
       "{'vertex': array([[2]]),\n",
       " 'line': array([[3, 0]]),\n",
       " 'triangle': array([[ 7, 10, 19],\n",
       "        [ 6, 11, 18],\n",
       "        [ 5, 12, 16],\n",
       "        [ 8,  9, 17],\n",
       "        [ 4, 13, 14],\n",
       "        [ 1,  2, 15],\n",
       "        [ 3,  0, 14],\n",
       "        [ 9,  8, 15],\n",
       "        [13,  4, 16],\n",
       "        [10,  7, 17],\n",
       "        [12,  5, 18],\n",
       "        [11,  6, 19],\n",
       "        [ 0,  4, 14],\n",
       "        [ 8,  1, 15],\n",
       "        [ 2,  9, 15],\n",
       "        [13,  3, 14],\n",
       "        [ 4,  5, 16],\n",
       "        [ 5,  6, 18],\n",
       "        [ 6,  7, 19],\n",
       "        [ 7,  8, 17],\n",
       "        [ 9, 10, 17],\n",
       "        [10, 11, 19],\n",
       "        [11, 12, 18],\n",
       "        [12, 13, 16]])}"
      ]
     },
     "execution_count": 98,
     "metadata": {},
     "output_type": "execute_result"
    }
   ],
   "source": [
    "mesh.cells_dict"
   ]
  },
  {
   "cell_type": "code",
   "execution_count": 99,
   "id": "748ce8c2",
   "metadata": {},
   "outputs": [
    {
     "data": {
      "text/plain": [
       "{'gmsh:physical': {'vertex': array([1]),\n",
       "  'line': array([101]),\n",
       "  'triangle': array([201, 201, 201, 201, 201, 201, 201, 201, 201, 201, 201, 201, 201,\n",
       "         201, 201, 201, 201, 201, 201, 201, 201, 201, 201, 201])},\n",
       " 'gmsh:geometrical': {'vertex': array([3]),\n",
       "  'line': array([4]),\n",
       "  'triangle': array([1, 1, 1, 1, 1, 1, 1, 1, 1, 1, 1, 1, 1, 1, 1, 1, 1, 1, 1, 1, 1, 1,\n",
       "         1, 1])}}"
      ]
     },
     "execution_count": 99,
     "metadata": {},
     "output_type": "execute_result"
    }
   ],
   "source": [
    "mesh.cell_data_dict"
   ]
  },
  {
   "cell_type": "code",
   "execution_count": 100,
   "id": "b0ac3380",
   "metadata": {},
   "outputs": [
    {
     "name": "stdout",
     "output_type": "stream",
     "text": [
      "--------------------------------------------\n",
      "Node 1 at [0. 0.]\n",
      "Indices:  [0 1]\n",
      "Nodal Load:  [0. 0.]\n",
      "Restrain:  ['f' 'f']\n",
      "--------------------------------------------\n",
      "\n",
      "--------------------------------------------\n",
      "Node 4 at [  0. 300.]\n",
      "Indices:  [6 7]\n",
      "Nodal Load:  [0. 0.]\n",
      "Restrain:  ['f' 'f']\n",
      "--------------------------------------------\n",
      "\n"
     ]
    }
   ],
   "source": [
    "support_nodes = get_nodes_in_group(mesh, 'Support', nodes)\n",
    "for node in support_nodes:\n",
    "    node.printSummary()"
   ]
  },
  {
   "cell_type": "code",
   "execution_count": 101,
   "id": "050931f7",
   "metadata": {},
   "outputs": [
    {
     "name": "stdout",
     "output_type": "stream",
     "text": [
      "--------------------------------------------\n",
      "Node 1 at [0. 0.]\n",
      "Indices:  [0 1]\n",
      "Nodal Load:  [0. 0.]\n",
      "Restrain:  ['r' 'r']\n",
      "--------------------------------------------\n",
      "\n",
      "--------------------------------------------\n",
      "Node 4 at [  0. 300.]\n",
      "Indices:  [6 7]\n",
      "Nodal Load:  [0. 0.]\n",
      "Restrain:  ['r' 'r']\n",
      "--------------------------------------------\n",
      "\n"
     ]
    }
   ],
   "source": [
    "for node in support_nodes:\n",
    "    node.set_restrain(['r', 'r'])\n",
    "    node.printSummary()"
   ]
  },
  {
   "cell_type": "code",
   "execution_count": 102,
   "id": "a3bc0b50",
   "metadata": {},
   "outputs": [
    {
     "name": "stdout",
     "output_type": "stream",
     "text": [
      "--------------------------------------------\n",
      "Node 3 at [3000.  300.]\n",
      "Indices:  [4 5]\n",
      "Nodal Load:  [    0 -9807]\n",
      "Restrain:  ['f' 'f']\n",
      "--------------------------------------------\n",
      "\n"
     ]
    }
   ],
   "source": [
    "load_nodes = get_nodes_in_group(mesh, 'Load', nodes)\n",
    "for node in load_nodes:\n",
    "    node.set_nodalLoad([0,-1*tf])\n",
    "    node.printSummary()"
   ]
  },
  {
   "cell_type": "code",
   "execution_count": 103,
   "id": "7e5ef519",
   "metadata": {},
   "outputs": [
    {
     "name": "stdout",
     "output_type": "stream",
     "text": [
      "--------------------------------------------\n",
      "Node 1 at [0. 0.]\n",
      "Indices:  [0 1]\n",
      "Nodal Load:  [0. 0.]\n",
      "Restrain:  ['r' 'r']\n",
      "--------------------------------------------\n",
      "\n",
      "--------------------------------------------\n",
      "Node 2 at [3000.    0.]\n",
      "Indices:  [2 3]\n",
      "Nodal Load:  [0. 0.]\n",
      "Restrain:  ['f' 'f']\n",
      "--------------------------------------------\n",
      "\n",
      "--------------------------------------------\n",
      "Node 3 at [3000.  300.]\n",
      "Indices:  [4 5]\n",
      "Nodal Load:  [    0 -9807]\n",
      "Restrain:  ['f' 'f']\n",
      "--------------------------------------------\n",
      "\n",
      "--------------------------------------------\n",
      "Node 4 at [  0. 300.]\n",
      "Indices:  [6 7]\n",
      "Nodal Load:  [0. 0.]\n",
      "Restrain:  ['r' 'r']\n",
      "--------------------------------------------\n",
      "\n",
      "--------------------------------------------\n",
      "Node 5 at [500.   0.]\n",
      "Indices:  [8 9]\n",
      "Nodal Load:  [0. 0.]\n",
      "Restrain:  ['f' 'f']\n",
      "--------------------------------------------\n",
      "\n",
      "--------------------------------------------\n",
      "Node 6 at [1000.    0.]\n",
      "Indices:  [10 11]\n",
      "Nodal Load:  [0. 0.]\n",
      "Restrain:  ['f' 'f']\n",
      "--------------------------------------------\n",
      "\n",
      "--------------------------------------------\n",
      "Node 7 at [1500.    0.]\n",
      "Indices:  [12 13]\n",
      "Nodal Load:  [0. 0.]\n",
      "Restrain:  ['f' 'f']\n",
      "--------------------------------------------\n",
      "\n",
      "--------------------------------------------\n",
      "Node 8 at [1999.99999999    0.        ]\n",
      "Indices:  [14 15]\n",
      "Nodal Load:  [0. 0.]\n",
      "Restrain:  ['f' 'f']\n",
      "--------------------------------------------\n",
      "\n",
      "--------------------------------------------\n",
      "Node 9 at [2500.    0.]\n",
      "Indices:  [16 17]\n",
      "Nodal Load:  [0. 0.]\n",
      "Restrain:  ['f' 'f']\n",
      "--------------------------------------------\n",
      "\n",
      "--------------------------------------------\n",
      "Node 10 at [2500.  300.]\n",
      "Indices:  [18 19]\n",
      "Nodal Load:  [0. 0.]\n",
      "Restrain:  ['f' 'f']\n",
      "--------------------------------------------\n",
      "\n",
      "--------------------------------------------\n",
      "Node 11 at [2000.00000001  300.        ]\n",
      "Indices:  [20 21]\n",
      "Nodal Load:  [0. 0.]\n",
      "Restrain:  ['f' 'f']\n",
      "--------------------------------------------\n",
      "\n",
      "--------------------------------------------\n",
      "Node 12 at [1500.00000001  300.        ]\n",
      "Indices:  [22 23]\n",
      "Nodal Load:  [0. 0.]\n",
      "Restrain:  ['f' 'f']\n",
      "--------------------------------------------\n",
      "\n",
      "--------------------------------------------\n",
      "Node 13 at [1000.00000001  300.        ]\n",
      "Indices:  [24 25]\n",
      "Nodal Load:  [0. 0.]\n",
      "Restrain:  ['f' 'f']\n",
      "--------------------------------------------\n",
      "\n",
      "--------------------------------------------\n",
      "Node 14 at [500. 300.]\n",
      "Indices:  [26 27]\n",
      "Nodal Load:  [0. 0.]\n",
      "Restrain:  ['f' 'f']\n",
      "--------------------------------------------\n",
      "\n",
      "--------------------------------------------\n",
      "Node 15 at [250. 150.]\n",
      "Indices:  [28 29]\n",
      "Nodal Load:  [0. 0.]\n",
      "Restrain:  ['f' 'f']\n",
      "--------------------------------------------\n",
      "\n",
      "--------------------------------------------\n",
      "Node 16 at [2750.  150.]\n",
      "Indices:  [30 31]\n",
      "Nodal Load:  [0. 0.]\n",
      "Restrain:  ['f' 'f']\n",
      "--------------------------------------------\n",
      "\n",
      "--------------------------------------------\n",
      "Node 17 at [750. 150.]\n",
      "Indices:  [32 33]\n",
      "Nodal Load:  [0. 0.]\n",
      "Restrain:  ['f' 'f']\n",
      "--------------------------------------------\n",
      "\n",
      "--------------------------------------------\n",
      "Node 18 at [2250.  150.]\n",
      "Indices:  [34 35]\n",
      "Nodal Load:  [0. 0.]\n",
      "Restrain:  ['f' 'f']\n",
      "--------------------------------------------\n",
      "\n",
      "--------------------------------------------\n",
      "Node 19 at [1250.  150.]\n",
      "Indices:  [36 37]\n",
      "Nodal Load:  [0. 0.]\n",
      "Restrain:  ['f' 'f']\n",
      "--------------------------------------------\n",
      "\n",
      "--------------------------------------------\n",
      "Node 20 at [1750.  150.]\n",
      "Indices:  [38 39]\n",
      "Nodal Load:  [0. 0.]\n",
      "Restrain:  ['f' 'f']\n",
      "--------------------------------------------\n",
      "\n"
     ]
    }
   ],
   "source": [
    "for node in nodes:\n",
    "    node.printSummary()"
   ]
  },
  {
   "cell_type": "code",
   "execution_count": 104,
   "id": "b8e6b569",
   "metadata": {},
   "outputs": [
    {
     "name": "stdout",
     "output_type": "stream",
     "text": [
      "--------------------------------------------\n",
      "Total system nDof: 40\n",
      "--------------------------------------------\n",
      "\n",
      "--------------------------------------------\n",
      "Global force vector:\n",
      "\n",
      "\n",
      "\n",
      "[    0.     0.     0.     0.     0. -9807.     0.     0.     0.     0.\n",
      "     0.     0.     0.     0.     0.     0.     0.     0.     0.     0.\n",
      "     0.     0.     0.     0.     0.     0.     0.     0.     0.     0.\n",
      "     0.     0.     0.     0.     0.     0.     0.     0.     0.     0.]\n",
      "--------------------------------------------\n",
      "\n",
      "--------------------------------------------\n",
      "Free indices: [ 2  3  4  5  8  9 10 11 12 13 14 15 16 17 18 19 20 21 22 23 24 25 26 27\n",
      " 28 29 30 31 32 33 34 35 36 37 38 39]\n",
      "Restrained indices: [0 1 6 7]\n",
      "--------------------------------------------\n",
      "\n",
      "--------------------------------------------\n",
      "Partitioned force vector:\n",
      "Ff:\n",
      " [    0.     0.     0. -9807.     0.     0.     0.     0.     0.     0.\n",
      "     0.     0.     0.     0.     0.     0.     0.     0.     0.     0.\n",
      "     0.     0.     0.     0.     0.     0.     0.     0.     0.     0.\n",
      "     0.     0.     0.     0.     0.     0.]\n",
      "Fr:\n",
      " [0. 0. 0. 0.]\n",
      "--------------------------------------------\n",
      "\n",
      "--------------------------------------------\n",
      "Displacement Solution:\n",
      "u:\n",
      " [ 0.00000000e+00  0.00000000e+00 -1.40353575e-01 -1.89111819e+00\n",
      "  1.40616449e-01 -1.89222578e+00  0.00000000e+00  0.00000000e+00\n",
      " -4.29260000e-02 -7.68010926e-02 -7.80471296e-02 -2.83680312e-01\n",
      " -1.05364390e-01 -5.94626097e-01 -1.24871854e-01 -9.83597732e-01\n",
      " -1.36604764e-01 -1.42472796e+00  1.36560537e-01 -1.42454168e+00\n",
      "  1.24879278e-01 -9.83629063e-01  1.05363128e-01 -5.94620827e-01\n",
      "  7.80473282e-02 -2.83681198e-01  4.29259517e-02 -7.68009478e-02\n",
      "  5.08226624e-09 -3.16464230e-02 -9.85595654e-05 -1.65753939e+00\n",
      " -8.44374960e-08 -1.74714816e-01  1.65696875e-05 -1.20228208e+00\n",
      "  4.62870625e-07 -4.34854053e-01 -2.79378129e-06 -7.86048390e-01]\n",
      "Reaction Solution:\n",
      "Fr:\n",
      " [ 98070.00000004   4903.2780164       0.              0.\n",
      "      0.          -9807.         -98070.00000004   4903.7219836\n",
      "      0.              0.              0.              0.\n",
      "      0.              0.              0.              0.\n",
      "      0.              0.              0.              0.\n",
      "      0.              0.              0.              0.\n",
      "      0.              0.              0.              0.\n",
      "      0.              0.              0.              0.\n",
      "      0.              0.              0.              0.\n",
      "      0.              0.              0.              0.        ]\n",
      "--------------------------------------------\n",
      "\n"
     ]
    }
   ],
   "source": [
    "# We create a general purpose code to ensamble the global stiffness matrix using the element stiffness matrices and its indices\n",
    "\n",
    "nodeList=nodes\n",
    "elementList=elements\n",
    "\n",
    "# Get the number of nodes and elements\n",
    "nNodes=len(nodeList)\n",
    "nElements=len(elementList)\n",
    "\n",
    "# Set the global parameters\n",
    "globalParameters={'nDoF': 2}\n",
    "\n",
    "# Get the number of nodes, the number of nodes and the number of degrees of freedom per node define the size of the stiffness matrix\n",
    "system_nDof = globalParameters['nDoF']*nNodes\n",
    "\n",
    "print(f'--------------------------------------------')\n",
    "print(f'Total system nDof: {system_nDof}')\n",
    "print(f'--------------------------------------------\\n')\n",
    "\n",
    "# Create the global stiffness matrix filled with zeros\n",
    "Kg=np.zeros((system_nDof,system_nDof))\n",
    "\n",
    "# Assemble the global stiffness matrix\n",
    "for i,element in enumerate(elementList):\n",
    "    Kg=matrix_replace(Kg,element.kg,element.idx,element.idx)\n",
    "\n",
    "# We assamble the global force vector for the joint loads\n",
    "\n",
    "print(f'--------------------------------------------')\n",
    "print(f'Global force vector:\\n')\n",
    "\n",
    "Fj=np.zeros(system_nDof)\n",
    "\n",
    "# Create load mapping\n",
    "for i,node in enumerate(nodeList):\n",
    "    Fj[node.idx]=node.nodalLoad\n",
    "    \n",
    "print(f'\\n')\n",
    "print(Fj)\n",
    "\n",
    "print(f'--------------------------------------------\\n')\n",
    "\n",
    "# We create an index vector with the free and restrained degrees of freedom\n",
    "\n",
    "nodeIndex=np.full(system_nDof,'',dtype=str)\n",
    "\n",
    "for i,node in enumerate(nodeList):\n",
    "    nodeIndex[node.idx]=node.restrain\n",
    "\n",
    "# Get the indices where the restrains are free and restrained\n",
    "\n",
    "print(f'--------------------------------------------')\n",
    "\n",
    "freeIndices=np.where(nodeIndex=='f')[0]\n",
    "restrainedIndices=np.where(nodeIndex=='r')[0]\n",
    "\n",
    "print(f'Free indices: {freeIndices}')\n",
    "print(f'Restrained indices: {restrainedIndices}')\n",
    "\n",
    "print(f'--------------------------------------------\\n')\n",
    "\n",
    "# Solution procedure\n",
    "# We partition the global stiffness matrix into Kff, Kfr, Krf and Krr\n",
    "\n",
    "Kff=matrix_extract(Kg,freeIndices,freeIndices)\n",
    "Kfr=matrix_extract(Kg,freeIndices,restrainedIndices)\n",
    "Krf=matrix_extract(Kg,restrainedIndices,freeIndices)\n",
    "Krr=matrix_extract(Kg,restrainedIndices,restrainedIndices)\n",
    "\n",
    "# We partition the global force vector into Ff and Fr\n",
    "Ff=Fj[freeIndices]\n",
    "Fr=Fj[restrainedIndices]\n",
    "\n",
    "print(f'--------------------------------------------')\n",
    "print(f'Partitioned force vector:')\n",
    "print(f'Ff:\\n {Ff}')\n",
    "print(f'Fr:\\n {Fr}')\n",
    "print(f'--------------------------------------------\\n')\n",
    "\n",
    "# We solve the system of equations\n",
    "# uf = Kff^-1 * (Ff - Kfr * ur)\n",
    "uf=np.linalg.solve(Kff,Ff-Kfr@Fr)\n",
    "ur=np.zeros(len(restrainedIndices))\n",
    "\n",
    "u=np.zeros(system_nDof)\n",
    "u[freeIndices]=uf\n",
    "u[restrainedIndices]=ur\n",
    "\n",
    "# Fr = Krf * uf + Krr * ur\n",
    "Fr=Krf@uf+Krr@ur\n",
    "\n",
    "F_reactions=np.zeros(system_nDof)\n",
    "F_reactions[restrainedIndices]=Fr\n",
    "\n",
    "# The joint load vector is:\n",
    "F=Fj+F_reactions\n",
    "\n",
    "print(f'--------------------------------------------')\n",
    "print(f'Displacement Solution:')\n",
    "print(f'u:\\n {u}')\n",
    "print(f'Reaction Solution:')\n",
    "print(f'Fr:\\n {F}')\n",
    "print(f'--------------------------------------------\\n')\n",
    "\n",
    "\n"
   ]
  },
  {
   "cell_type": "code",
   "execution_count": 105,
   "id": "5d7b90ed",
   "metadata": {},
   "outputs": [
    {
     "data": {
      "text/plain": [
       "-1.8922257774301017"
      ]
     },
     "execution_count": 105,
     "metadata": {},
     "output_type": "execute_result"
    }
   ],
   "source": [
    "u[5]"
   ]
  },
  {
   "cell_type": "code",
   "execution_count": 106,
   "id": "f3ca6910",
   "metadata": {},
   "outputs": [
    {
     "name": "stdout",
     "output_type": "stream",
     "text": [
      "5.257727073477293\n"
     ]
    }
   ],
   "source": [
    "P=1*tf\n",
    "I=B*H**3/12\n",
    "\n",
    "delta=P*L**3/(3*E*I)\n",
    "\n",
    "print(delta)"
   ]
  },
  {
   "cell_type": "markdown",
   "id": "01f70632",
   "metadata": {},
   "source": [
    "# Results Visualization"
   ]
  },
  {
   "cell_type": "code",
   "execution_count": 107,
   "id": "9ffa6b41",
   "metadata": {},
   "outputs": [],
   "source": [
    "# ==========================================================\n",
    "# PROCESO DE DATA PARA GMSH\n",
    "# ==========================================================\n",
    "\n",
    "Nnodes=len(nodes)\n",
    "\n",
    "u_3d = np.zeros((Nnodes,3))\n",
    "u_3d[:,0] = u[0::2]\n",
    "u_3d[:,1] = u[1::2]\n"
   ]
  },
  {
   "cell_type": "code",
   "execution_count": 108,
   "id": "ce327a8e",
   "metadata": {},
   "outputs": [
    {
     "name": "stdout",
     "output_type": "stream",
     "text": [
      "[ 1  2  3  4  5  6  7  8  9 10 11 12 13 14 15 16 17 18 19 20]\n"
     ]
    }
   ],
   "source": [
    "node_tags = np.array([node.name for node in nodes]) \n",
    "\n",
    "print(node_tags)"
   ]
  },
  {
   "cell_type": "code",
   "execution_count": 109,
   "id": "bced96c2",
   "metadata": {},
   "outputs": [],
   "source": [
    "# ==========================================================\n",
    "# PROCESO PARA VISUALIZAR EN GMSH\n",
    "# ==========================================================\n",
    "\n",
    "gmsh.initialize()\n",
    "\n",
    "node_tags = np.array([node.name for node in nodes]) \n",
    "\n",
    "# Codigo para visualizar en gmsh\n",
    "\n",
    "viewnum = gmsh.view.add(\"Displacements\")\n",
    "gmsh.view.addHomogeneousModelData(\n",
    "\ttag=viewnum, \n",
    "\tstep=0,\n",
    "\ttime=0, \n",
    "\tmodelName=gmsh.model.getCurrent(),\n",
    "\tdataType=\"NodeData\",\n",
    "\tnumComponents=-1,\n",
    "\ttags=node_tags,\n",
    "\tdata=u_3d.reshape((-1))\n",
    ")\n",
    "# Set displacement field view options\n",
    "gmsh.view.option.setNumber(viewnum, \"DisplacementFactor\", 500)\n",
    "gmsh.view.option.setNumber(viewnum, \"VectorType\", 5)  # Displacement vectors\n",
    "gmsh.option.setNumber(\"Mesh.SurfaceFaces\", 0)  # Hide surface faces\n",
    "gmsh.view.option.setNumber(viewnum, \"Visible\", 0)\n",
    "\n",
    "\n",
    "gmsh.view.option.setNumber(viewnum, \"Visible\", 0)\n",
    "gmsh.view.option.setNumber(viewnum, \"GlyphLocation\", 2)  # Ensure vectors are located at the nodes\n",
    "\n",
    "gmsh.fltk.run()\n",
    "gmsh.finalize()"
   ]
  }
 ],
 "metadata": {
  "kernelspec": {
   "display_name": "base",
   "language": "python",
   "name": "python3"
  },
  "language_info": {
   "codemirror_mode": {
    "name": "ipython",
    "version": 3
   },
   "file_extension": ".py",
   "mimetype": "text/x-python",
   "name": "python",
   "nbconvert_exporter": "python",
   "pygments_lexer": "ipython3",
   "version": "3.11.10"
  }
 },
 "nbformat": 4,
 "nbformat_minor": 5
}
