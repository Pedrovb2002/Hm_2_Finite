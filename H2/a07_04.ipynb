{
 "cells": [
  {
   "cell_type": "markdown",
   "id": "558fa71a",
   "metadata": {},
   "source": [
    "conversion de unidades, longitud, fuerza ... \n",
    "Ver carpeta compratida"
   ]
  },
  {
   "cell_type": "code",
   "execution_count": null,
   "id": "02b67966",
   "metadata": {
    "vscode": {
     "languageId": "plaintext"
    }
   },
   "outputs": [],
   "source": []
  }
 ],
 "metadata": {
  "language_info": {
   "name": "python"
  }
 },
 "nbformat": 4,
 "nbformat_minor": 5
}
